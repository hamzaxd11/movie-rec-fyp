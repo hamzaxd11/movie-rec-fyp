{
 "cells": [
  {
   "cell_type": "code",
   "execution_count": 1,
   "id": "b574bd5d",
   "metadata": {},
   "outputs": [],
   "source": [
    "import numpy as np\n",
    "from sklearn.metrics.pairwise import cosine_similarity, manhattan_distances, cosine_distances, euclidean_distances   "
   ]
  },
  {
   "cell_type": "code",
   "execution_count": 3,
   "id": "60a4e71f",
   "metadata": {},
   "outputs": [],
   "source": [
    "#x = np.array([[0,0,60,11,21]])\n",
    "#y = np.array([[40,11,4,11,14]])\n",
    "\n",
    "def sklearn_cosine(x,y):\n",
    "    return cosine_similarity(x, y)\n",
    "\n",
    "def sklearn_mahnattan(x,y):\n",
    "    return manhattan_distances(x, y)\n",
    "\n",
    "def sklearn_euclidean(x,y):\n",
    "    return euclidean_distances(x, y)"
   ]
  },
  {
   "cell_type": "code",
   "execution_count": 4,
   "id": "606819a0",
   "metadata": {},
   "outputs": [],
   "source": [
    "a = [0,5,0,0,0]\n",
    "b = [0,4,0,0,0]"
   ]
  },
  {
   "cell_type": "code",
   "execution_count": 5,
   "id": "604265f9",
   "metadata": {},
   "outputs": [],
   "source": [
    "a = np.array(a)\n",
    "b = np.array(b)\n",
    "\n",
    "a = a.reshape(1,5)\n",
    "b = b.reshape(1,5)"
   ]
  },
  {
   "cell_type": "code",
   "execution_count": 6,
   "id": "ce39c741",
   "metadata": {
    "scrolled": true
   },
   "outputs": [
    {
     "data": {
      "text/plain": [
       "array([[1.]])"
      ]
     },
     "execution_count": 6,
     "metadata": {},
     "output_type": "execute_result"
    }
   ],
   "source": [
    "sklearn_cosine(a,b)"
   ]
  },
  {
   "cell_type": "code",
   "execution_count": 27,
   "id": "1531169e",
   "metadata": {},
   "outputs": [
    {
     "data": {
      "text/plain": [
       "array([[10.]])"
      ]
     },
     "execution_count": 27,
     "metadata": {},
     "output_type": "execute_result"
    }
   ],
   "source": [
    "sklearn_mahnattan(a,b)"
   ]
  },
  {
   "cell_type": "code",
   "execution_count": 28,
   "id": "246dd6a2",
   "metadata": {},
   "outputs": [
    {
     "data": {
      "text/plain": [
       "array([[6.]])"
      ]
     },
     "execution_count": 28,
     "metadata": {},
     "output_type": "execute_result"
    }
   ],
   "source": [
    "sklearn_euclidean(a,b)"
   ]
  },
  {
   "cell_type": "code",
   "execution_count": null,
   "id": "a350c2a6",
   "metadata": {},
   "outputs": [],
   "source": []
  }
 ],
 "metadata": {
  "kernelspec": {
   "display_name": "Python 3 (ipykernel)",
   "language": "python",
   "name": "python3"
  },
  "language_info": {
   "codemirror_mode": {
    "name": "ipython",
    "version": 3
   },
   "file_extension": ".py",
   "mimetype": "text/x-python",
   "name": "python",
   "nbconvert_exporter": "python",
   "pygments_lexer": "ipython3",
   "version": "3.9.7"
  }
 },
 "nbformat": 4,
 "nbformat_minor": 5
}
